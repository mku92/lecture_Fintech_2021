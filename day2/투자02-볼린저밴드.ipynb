{
 "cells": [
  {
   "cell_type": "markdown",
   "id": "f2183ee8-8192-4233-805a-5fd0df663301",
   "metadata": {},
   "source": [
    "1. 볼린저 밴드 지표 1: %b\n",
    "1. [볼린저 밴드 지표 2: 밴드폭](#6.3.3-볼린저-밴드-지표-2:-밴드폭)\n",
    "1. [추세 추종 매매기법](#6.4.1-추세-추종-매매기법)"
   ]
  },
  {
   "cell_type": "markdown",
   "id": "c7f0ee39-a136-4195-a809-c83e2459bc3f",
   "metadata": {},
   "source": [
    "# 6.3 볼린져 밴드 지표\n",
    "\n",
    "보통 많이 사용하는 보조지표로는 \"이동평균선\", \"일목균형표\", \"볼린져 밴드\", \"매물대\", \"상대강도지수 RSI\", \"이동평균 수렴확산 MACD\" 등을 사용한다.\n",
    "\n",
    "볼린져 밴드는 주가의 변동이 표준 정규분포를 따른다는 가정에서 주가의 위.아래 밴드를 표시해서 주가의 상대적인 높낮이를 표현해 준다. 기술적 분석에서 투자자들이 선호하는 지표이다.\n",
    "\n",
    "존 볼리저가 저술한 \"[볼린저 밴드 투자 기법, 2021, 이레미디어](http://www.yes24.com/Product/Goods/96806831#:~:text=%EA%B8%B0%EB%B2%95%20I%EC%9D%80%20%EB%B0%B4%EB%93%9C%ED%8F%AD,%ED%95%98%EB%8A%94%20%EC%B6%94%EC%84%B8%EC%B6%94%EC%A2%85%EA%B8%B0%EB%B2%95%EC%9D%B4%EB%8B%A4.)\" 에서 어떤 통계학적 기법을 이용해 볼리저 밴드를 개발했는지, 볼린저 밴드를 다른 지표들과 어떻게 연계해야 최적의 결과를 얻는지에 대해 상세하게 기술되어 있다."
   ]
  },
  {
   "cell_type": "markdown",
   "id": "0fd2afca-c551-424a-ba18-982f024f32f9",
   "metadata": {},
   "source": [
    "## 6.3.1 볼린저 밴드 구하기\n",
    "\n",
    "볼리저 밴드는 주가의 *20일 이동 평균선*을 기준으로 상대적인 고점을 나타내는 상단 밴드와 상대적 저점을 나타내는 하단 밴드로 구성된다. 주가가 상단 밴드에 위치하면 주가가 상대적 고점에, 하단 밴드에 위치하면 상대적 저점이라 판단."
   ]
  },
  {
   "cell_type": "markdown",
   "id": "98f9ef7d-8f02-4fab-bd7d-f4a6fcf4988e",
   "metadata": {},
   "source": [
    "상단 밴드와 하단 밴드 사이의 폭은 주가의 표준편차와 특정 상수의 곱으로 나타낼 수 있다. 밴드폭이 좁을 수록 변동성이 작고, 밴드폭이 넓을 수록 변동성이 크다.\n",
    "\n",
    "공식:\n",
    "\n",
    "- 상단 볼리저 밴드 = 중간 볼리저 밴드 + (2 x 표준편차)\n",
    "- 준단 볼리저 밴드 = 종가의 20일 이동평균\n",
    "- 하단 볼리저 밴드 = 중간 볼리저 밴드 - (2 x 표준편차)\n",
    "\n",
    "> 통계학에 따르면 평균값에서 +-2x표준편차 이내에 표본값 95.4% 이 존재한다고 한다. 그래서 볼린져 밴드 내부에 존재할 확률도 95.4% 이다."
   ]
  },
  {
   "cell_type": "markdown",
   "id": "8025d6c5-d3ac-43c8-836a-8f3ee033aa11",
   "metadata": {},
   "source": [
    "네이버 종가 데이터로 볼리저 밴드를 그려보자, "
   ]
  },
  {
   "cell_type": "code",
   "execution_count": null,
   "id": "3f46b27d-21ab-4875-b29d-f4ea2436be51",
   "metadata": {},
   "outputs": [],
   "source": [
    "import pandas as pd\n",
    "import matplotlib.pyplot as plt\n",
    "import FinanceDataReader as fdr\n",
    "\n",
    "import sys\n",
    "sys.path.append('../Libraries') \n",
    "import load_hangul_fonts\n",
    "\n",
    "plt.rcParams['axes.unicode_minus'] = False #glypy 8722: Axes에 - 표시 안되는 것"
   ]
  },
  {
   "cell_type": "code",
   "execution_count": null,
   "id": "5d1e64e3-a610-4594-8c86-5c193c23b561",
   "metadata": {},
   "outputs": [],
   "source": [
    "import numpy as np\n",
    "import pandas as pd\n",
    "\n",
    "import FinanceDataReader as fdr\n",
    "\n",
    "\n",
    "def krx_stocks(exchange='KRX'):\n",
    "    '''\n",
    "    v0.1\n",
    "     - FDR 를 사용해서 KRX에 속한 주식종목 정보를 반환한다.\n",
    "     - 매월 csv 파일에 저장하고 파일이 없는 경우 FDR로 다룬다.\n",
    "    '''\n",
    "    import time\n",
    "    from pathlib import Path\n",
    "\n",
    "    ym = time.strftime('%Y%m', time.localtime(time.time()))\n",
    "    data_root = 'data'\n",
    "    krx_stock_csv = Path(f'{data_root}/krx-stocks-{ym}.csv')\n",
    "    if not krx_stock_csv.exists():\n",
    "        df_krx = fdr.StockListing('KRX')\n",
    "        df_krx.to_csv( krx_stock_csv, index=False)\n",
    "        print(f'KRX {ym} Stock Listing from KRX')\n",
    "    else:\n",
    "        df_krx = pd.read_csv( krx_stock_csv)\n",
    "        print(f'KRX {ym} Stock Listing from file: {krx_stock_csv}')\n",
    "    return df_krx\n",
    "\n",
    "\n",
    "def krx_symbols(names=[]):\n",
    "    '''\n",
    "    v0.1 \n",
    "     - 주어진 names 종목이름 리스트에 대한 종목코드와 이름을 반환한다\n",
    "    '''\n",
    "    df_krx = krx_stocks()\n",
    "\n",
    "    # 종목명으로 이름과 코드 찾기\n",
    "    df_stocks = df_krx[df_krx['Name'].isin( names )][['Name', 'Symbol']]\n",
    "    return df_stocks"
   ]
  },
  {
   "cell_type": "code",
   "execution_count": null,
   "id": "f5faaa32-2ca9-4a42-8a11-46515c048242",
   "metadata": {},
   "outputs": [],
   "source": [
    "symbols = krx_symbols(['NAVER'])\n",
    "symbols"
   ]
  },
  {
   "cell_type": "code",
   "execution_count": null,
   "id": "bfa5d177-105d-4518-943a-febdd8afd720",
   "metadata": {},
   "outputs": [],
   "source": [
    "dfstock = fdr.DataReader(symbols.Symbol.iloc[0], '2021-01-02')\n",
    "dfstock.head()"
   ]
  },
  {
   "cell_type": "code",
   "execution_count": null,
   "id": "b1f571a3-39ff-46c4-8fc9-037a8a09b3f2",
   "metadata": {},
   "outputs": [],
   "source": [
    "dfstock.shape"
   ]
  },
  {
   "cell_type": "code",
   "execution_count": null,
   "id": "819c2287-7ccf-492d-bb50-994ce7641e0a",
   "metadata": {},
   "outputs": [],
   "source": [
    "df = dfstock.copy()"
   ]
  },
  {
   "cell_type": "code",
   "execution_count": null,
   "id": "f2753715-67d0-430f-b698-207be9dd2365",
   "metadata": {},
   "outputs": [],
   "source": [
    "df['MA20'] = df['Close'].rolling(window=20).mean()  # 종가 20 이동평균\n",
    "df['stddev'] = df['Close'].rolling(window=20).std() # 종가 20 이동평균에 대한 표준편차\n",
    "df['upper'] = df['MA20'] + (df['stddev'] * 2)   # 볼리전 밴드 상단\n",
    "df['lower'] = df['MA20'] - (df['stddev'] * 2)   # 볼린저 밴드 하단"
   ]
  },
  {
   "cell_type": "code",
   "execution_count": null,
   "id": "955acb81-e670-4dc3-bd6a-fd16a09bf58d",
   "metadata": {},
   "outputs": [],
   "source": [
    "# 20일 이동평균을 구하므로 19번째 까지 MA20, stddev등이 NaN이다.\n",
    "df.head()"
   ]
  },
  {
   "cell_type": "code",
   "execution_count": null,
   "id": "e3ef7986-7955-4521-b6c6-a03995a3eb56",
   "metadata": {},
   "outputs": [],
   "source": [
    "df[18:]"
   ]
  },
  {
   "cell_type": "code",
   "execution_count": null,
   "id": "0dfcbe13-065c-4755-8ba4-6d6bf7582965",
   "metadata": {},
   "outputs": [],
   "source": [
    "df = df[19:] # 20번째 행부터"
   ]
  },
  {
   "cell_type": "markdown",
   "id": "65ae020d-14b5-429e-a602-32dce00e1211",
   "metadata": {},
   "source": [
    "### 이동평균\n",
    "\n",
    "단기, 장기로 5일, 20일 이동평균을 구해보자."
   ]
  },
  {
   "cell_type": "code",
   "execution_count": null,
   "id": "d90368dd-4c92-4368-af6c-f61a9e796631",
   "metadata": {},
   "outputs": [],
   "source": [
    "df['MA5'] = df['Close'].rolling(window=5).mean()  # 종가 20 이동평균\n",
    "df['diff'] = df['MA5'] - df['MA20']\n",
    "\n",
    "ax = df[['Close','MA20','MA5']].plot(figsize=(15,5),\\\n",
    "                                     style=['k-','r--','m--'])\n",
    "plt.show()"
   ]
  },
  {
   "cell_type": "code",
   "execution_count": null,
   "id": "98678243-25a7-47a3-979c-c4f9f6bce58f",
   "metadata": {},
   "outputs": [],
   "source": [
    "def bollingerband(df, **kwargs):\n",
    "    if 'name' in kwargs.keys() and kwargs['name'] == True:\n",
    "        print(kwargs['name'])"
   ]
  },
  {
   "cell_type": "code",
   "execution_count": null,
   "id": "a8869c0f-8713-48cf-b69c-8e39d021c846",
   "metadata": {},
   "outputs": [],
   "source": [
    "bollingerband({})"
   ]
  },
  {
   "cell_type": "markdown",
   "id": "a78e3f75-287c-4ec2-9317-1b288caa060e",
   "metadata": {},
   "source": [
    "### 골든크로스, 데스크로스 \n",
    "\n",
    "단기/장기 이동평균의 차이값 예를 들어 `MA_5 - MA_20` 차이값을 비교해서 부호가 바뀌어 음이면 데드크로스 양이면 골드크로스로 판다.\n",
    " - 크로스 : 차이값 x 이전 차이값 < 0 (즉, 이전 값과 부호가 바뀌는 경우)\n"
   ]
  },
  {
   "cell_type": "code",
   "execution_count": null,
   "id": "e3bcbc94-0079-4133-b812-43ca04e10b38",
   "metadata": {},
   "outputs": [],
   "source": [
    "prev_key = prev_val = 0\n",
    "ax = df[['Close','MA20','MA5']].plot(figsize=(15,5),\\\n",
    "                                          style=['k-','r--','m--'])\n",
    "#http://matplotlib.org/users/annotations_guide.html\n",
    "for key, val in df['diff'][1:].iteritems():\n",
    "    if val == 0:\n",
    "        continue\n",
    "    if val * prev_val < 0 and val > prev_val:\n",
    "        #print('[golden]', key, val)\n",
    "        ax.annotate('Golden', xy=(key, df['MA20'][key]),\\\n",
    "            xytext=(10,-30), textcoords='offset points', fontsize=16,\\\n",
    "            arrowprops=dict(arrowstyle='-|>'))\n",
    "    if val * prev_val < 0 and val < prev_val:\n",
    "        #print('[dead]', key, val)\n",
    "        ax.annotate('Dead', xy=(key, df['MA20'][key]),\\\n",
    "            xytext=(10,30), textcoords='offset points', fontsize=16,\\\n",
    "            arrowprops=dict(arrowstyle='-|>'))\n",
    "\n",
    "    prev_key, prev_val = key, val\n",
    "plt.show()"
   ]
  },
  {
   "cell_type": "markdown",
   "id": "9175447d-08db-403b-b231-61b92b462ec0",
   "metadata": {},
   "source": [
    "볼린져 밴드 "
   ]
  },
  {
   "cell_type": "code",
   "execution_count": null,
   "id": "5272c66d-ee4f-4755-90ff-f3726e7aeca0",
   "metadata": {},
   "outputs": [],
   "source": [
    "# 볼리저 밴드\n",
    "# 밴드 대역폭을 날짜별로 \n",
    "plt.figure(figsize=(9, 5))\n",
    "plt.plot(df.index, df['Close'], color='#0000ff', label='Close')    # ⑥\n",
    "plt.plot(df.index, df['upper'], 'r--', label = 'Upper band')       # ⑦\n",
    "plt.plot(df.index, df['MA20'], 'k--', label='Moving average 20')\n",
    "plt.plot(df.index, df['lower'], 'c--', label = 'Lower band')\n",
    "plt.fill_between(df.index, df['upper'], df['lower'], color='0.9')  # 상단/하단 밴드 사이를 회색\n",
    "plt.legend(loc='best')\n",
    "plt.title('NAVER Bollinger Band (20 day, 2 std)')\n",
    "plt.show()"
   ]
  },
  {
   "cell_type": "code",
   "execution_count": null,
   "id": "656ad13a-06c0-4760-82b0-6a102d13d697",
   "metadata": {},
   "outputs": [],
   "source": [
    "# Dataframe 의 plot 사용\n",
    "ax = df[['Close','upper','MA20','lower']].plot(figsize=(9,5),\\\n",
    "                                          style=['#0000ff','r--','k--','c--'])\n",
    "# ax[0].set_label('Close')\n",
    "# ax.set_label(['Upper band','Moving Average 20', 'Lower band'])\n",
    "plt.fill_between(df.index, df['upper'], df['lower'], color='.9')\n",
    "plt.show()"
   ]
  },
  {
   "cell_type": "markdown",
   "id": "ac78e9a9-0f85-45df-9daf-cb62ee386a4b",
   "metadata": {},
   "source": [
    "통계학에 따르면 평균값에서 +-2x표준편차 이내에 표본값 95.4% 이 존재한다고 한다. 그래서 볼린져 밴드 내부에 존재할 확률도 95.4% 이다."
   ]
  },
  {
   "cell_type": "markdown",
   "id": "48a2f090-74dc-490e-9207-af042d3c5408",
   "metadata": {},
   "source": [
    "## 6.3.2 볼린저 밴드 지표 1: `%b`\n",
    "\n",
    "***볼린저 밴드 승수 (PB, Percent Bandwidth)***  는 볼리저 밴드에 주가가 어느 위치인지를 나타내는 지표이다. PB는 종가와 하단 밴드의 차이를 상단과 하단 밴드 차이의 비율로  `%b` 로 표시하기도 한다.\n",
    "\n",
    "$$\n",
    "\\text{%b} = \\frac{\\text{종가}-\\text{하단 볼린저 밴드}}{\\text{상단 볼린저 밴드}-\\text{중간 볼린저 밴드}}\n",
    "$$"
   ]
  },
  {
   "cell_type": "markdown",
   "id": "b2e789de-75d2-48a9-b763-8e6a16847678",
   "metadata": {},
   "source": [
    "%b는 종가가 상단에 걸쳐 있을 때 1.0이 되고, 중간에 걸치면 0.5, 하단에 걸치면 0.0이 된다. %b는 상한선, 하한선이 없어서 종가가 상단 밴드보다 위에 있으면 1.0을 넘고, 종가가 하단 밴드 아래 있으면 0보다 작은 수가 된다. \n",
    "\n",
    "예를 들어 %b가 1.1.이면 주가가 상단밴드보다 10% 위에 있다는 의미가 된다."
   ]
  },
  {
   "cell_type": "markdown",
   "id": "823f466b-afd0-41db-a2c0-cb1433057502",
   "metadata": {},
   "source": [
    "볼린져 밴드 그래프에 %b 지표를 추가해 보자."
   ]
  },
  {
   "cell_type": "code",
   "execution_count": null,
   "id": "eacfd708-bfbe-4a04-b847-74b1bdf76556",
   "metadata": {},
   "outputs": [],
   "source": [
    "df = dfstock.copy()"
   ]
  },
  {
   "cell_type": "code",
   "execution_count": null,
   "id": "9c7f5738-96d3-408d-bb1d-b4ee11b586d2",
   "metadata": {},
   "outputs": [],
   "source": [
    "df['MA20'] = df['Close'].rolling(window=20).mean()  # 종가 20 이동평균\n",
    "df['stddev'] = df['Close'].rolling(window=20).std() # 종가 20 이동평균에 대한 표준편차\n",
    "df['upper'] = df['MA20'] + (df['stddev'] * 2)   # 볼리전 밴드 상단\n",
    "df['lower'] = df['MA20'] - (df['stddev'] * 2)   # 볼린저 밴드 하단\n",
    "df['PB'] = (df['Close'] - df['lower']) / (df['upper'] - df['lower'])   # %b"
   ]
  },
  {
   "cell_type": "code",
   "execution_count": null,
   "id": "2abbe1e7-a67d-4b19-bc13-15f3a023c183",
   "metadata": {},
   "outputs": [],
   "source": [
    "df = df[19:]"
   ]
  },
  {
   "cell_type": "code",
   "execution_count": null,
   "id": "0064920a-21c5-461a-b3f9-ba7028e34154",
   "metadata": {},
   "outputs": [],
   "source": [
    "# 볼리저 밴드\n",
    "# 밴드 대역폭을 날짜별로 \n",
    "\n",
    "plt.figure(figsize=(9, 8))\n",
    "plt.subplot(2, 1, 1)  # ②\n",
    "plt.plot(df.index, df['Close'], color='#0000ff', label='Close')\n",
    "plt.plot(df.index, df['upper'], 'r--', label = 'Upper band')\n",
    "plt.plot(df.index, df['MA20'], 'k--', label='Moving average 20')\n",
    "plt.plot(df.index, df['lower'], 'c--', label = 'Lower band')\n",
    "plt.fill_between(df.index, df['upper'], df['lower'], color='0.9')\n",
    "plt.title('NAVER Bollinger Band(20 day, 2 std)')\n",
    "plt.legend(loc='best')\n",
    "\n",
    "plt.subplot(2, 1, 2)  # ③\n",
    "plt.plot(df.index, df['PB'], color='b', label='%B')  # ④\n",
    "plt.grid(True)\n",
    "plt.legend(loc='best')\n",
    "plt.show()\n"
   ]
  },
  {
   "cell_type": "markdown",
   "id": "2e03625c-3e16-418f-8884-05732afc4a8e",
   "metadata": {},
   "source": [
    "%b는 밴드 하단 0, 중간 0.5, 상단 1.0 을 나타내므로 0~1사이 범위에서 실제 주가와 유사한 흐름을 볼 수 있다."
   ]
  },
  {
   "cell_type": "markdown",
   "id": "2139d8e8-63f9-429e-99d3-864615696070",
   "metadata": {},
   "source": [
    "## 6.3.3 볼린저 밴드 지표 2: 밴드폭\n",
    "\n",
    "***밴드폭(Bandwidth)*** 은 상단 볼리저 밴드와 하단 볼린저 밴드 사이의 폭으로 밴드폭으로 쉬키즈squeeze를 확인하는데 유용하다. "
   ]
  },
  {
   "attachments": {
    "b332e929-0f0f-435a-96d4-51b689fecad9.png": {
     "image/png": "[encoded data removed]"
    }
   },
   "cell_type": "markdown",
   "id": "5c2f0244-141f-454c-9631-c56c460cddc3",
   "metadata": {},
   "source": [
    "밴드폭 산출 공식\n",
    "![image.png](attachment:b332e929-0f0f-435a-96d4-51b689fecad9.png)"
   ]
  },
  {
   "cell_type": "markdown",
   "id": "f1ee00a3-06dd-4ad4-a409-2fc302fd7c1c",
   "metadata": {},
   "source": [
    "밴드폭의 중요한 역할은 강력한 추세의 시작과 마지막을 포착하는 것이다."
   ]
  },
  {
   "cell_type": "code",
   "execution_count": null,
   "id": "2183591e-cc67-42fc-b3ac-332935481c97",
   "metadata": {},
   "outputs": [],
   "source": [
    "df = dfstock.copy()"
   ]
  },
  {
   "cell_type": "code",
   "execution_count": null,
   "id": "74fd3981-54dd-4d83-8a88-b5fe389e4caf",
   "metadata": {},
   "outputs": [],
   "source": [
    "symbol = symbols.Symbol.iloc[0] #'005930' #\n",
    "df = fdr.DataReader(symbol, '2021-01-02')\n",
    "df['MA20'] = df['Close'].rolling(window=20).mean()\n",
    "df['stddev'] = df['Close'].rolling(window=20).std()\n",
    "df['upper'] = df['MA20'] + (df['stddev'] * 2)\n",
    "df['lower'] = df['MA20'] - (df['stddev'] * 2)\n",
    "df['bandwidth'] = (df['upper'] - df['lower']) / df['MA20'] * 100 # ①\n",
    "df = df[19:]"
   ]
  },
  {
   "cell_type": "code",
   "execution_count": null,
   "id": "28a11bca-1324-4bed-b566-7a57c380c8e9",
   "metadata": {},
   "outputs": [],
   "source": [
    "plt.figure(figsize=(9, 8))\n",
    "plt.subplot(2, 1, 1)\n",
    "plt.plot(df.index, df['Close'], color='#0000ff', label='Close')\n",
    "plt.plot(df.index, df['upper'], 'r--', label ='Upper band')\n",
    "plt.plot(df.index, df['MA20'], 'k--', label='Moving average 20')\n",
    "plt.plot(df.index, df['lower'], 'c--', label ='Lower band')\n",
    "plt.fill_between(df.index, df['upper'], df['lower'], color='0.9')\n",
    "plt.title(f'{symbol} Bollinger Band(20 day, 2 std)')\n",
    "plt.legend(loc='best')\n",
    "plt.subplot(2, 1, 2)\n",
    "plt.plot(df.index, df['bandwidth'], color='m', label='BandWidth') # ②\n",
    "plt.grid(True)\n",
    "plt.legend(loc='best')\n",
    "plt.show()"
   ]
  },
  {
   "cell_type": "markdown",
   "id": "04729190-9b26-4a68-90d1-ae1237436787",
   "metadata": {},
   "source": [
    "밴드폭은 상단 볼리전 밴드와 하단 볼리전 밴드폭 차이를 20일 이동평균의 비율로 나타낸 것으로 상단과 하단이 벌어질 때 밴드폭 수치가 커지는 것을 알 수 있다."
   ]
  },
  {
   "cell_type": "markdown",
   "id": "382071bd-a0cf-4a99-8119-e1f639ea9745",
   "metadata": {},
   "source": [
    "# 6.4 볼리저 밴드 매매 기법\n",
    "\n",
    "\"상단 밴드에 매도하고, 하단 밴드에 매수하라\" 라는 것은 잘못된 통념이다. 밴드 태그(주가가 밴드에 닿는 현상)이 일어났다고 그 자체로 매수/매도 신호가 되는 것은 아니다.\n",
    "\n",
    "1. **%b 지표** 는 볼리저 밴드 어디에 주가가 위치하는 지를 나타내며 주가와 연계해 트레이딩 시스템을 구축할 때 필요한 핵심 수단이다. \n",
    "2. **밴드폭** 은 밴드 너비를 수치로 나타낸 것으로 추세의 시작과 끝을 포착하는 역할을 한다.\n",
    "3. 변동성과 추세는 볼리저 밴드에 반영되었으니 이것이 주가 움직임을 확증하는 증거는 아니다."
   ]
  },
  {
   "cell_type": "markdown",
   "id": "8e76d8f1-6328-4911-a7fa-4f9c5cbcd2b4",
   "metadata": {},
   "source": [
    "## 6.4.1 추세 추종 매매기법\n",
    "\n",
    "***추세추종 Trend Following*** 은 상승 추세에 매수하고 하락 추세에 매도하는 기법이다. 상승/하락 추세의 시작을 %b 지표로 상/하단을 태그했는지 여부로 판단하지 않고 *\"현금흐름지표 MFI\"* 나 *\"일중강도 II\"' 같은 거래량 관련 지표를 함께 사용해서 확증이 이루어진 경우에만 매수/매도에 들어간다.\n",
    "\n",
    "- 매수: 주가가 상단 밴드에 접근하며 지표가 강세를 확증할 때만 매수\n",
    "     - %b가 0.8보다 크고, MFI가 80보다 클때\n",
    "- 매도: 주가가 하단 밴드에 접근하며, 지표가 약세를 확증할 때만 매도\n",
    "     - %b가 0.2보다 작고, MFI가 20보다 작을 때"
   ]
  },
  {
   "attachments": {
    "9716e597-bc23-4184-87db-0ed75a810350.png": {
     "image/png": "[encoded data removed]"
    }
   },
   "cell_type": "markdown",
   "id": "aec017e9-10d9-42b4-b176-00d2a58c6689",
   "metadata": {},
   "source": [
    "### - 현금흐름 지표 MFI Money Flow Index\n",
    "\n",
    "보통 주가를 종가로 나타내는데 ***중심가격 (TP, Typical Price)*** 을 사용하면 트레이딩 집중적으로 발생하는 주가 지점을 더 잘 나타낼 수 있다. 중심가격은 일정 기간의 고가, 저가, 종가를 합한뒤 3으로 나눈것이다. \n",
    "![image.png](attachment:9716e597-bc23-4184-87db-0ed75a810350.png)"
   ]
  },
  {
   "cell_type": "markdown",
   "id": "f4007d88-ed60-42b1-af86-8a0d42a6f5e9",
   "metadata": {},
   "source": [
    " - 긍정적 현금 흐름: 중심 가격이 전일 보다 상승한 날들의 현금 흐름의  합\n",
    " - 부정적 현금 흐름: 중심 가격이 전일 보다 하락한 날들의 현금 흐름의 합"
   ]
  },
  {
   "cell_type": "markdown",
   "id": "7fdf0e07-6d56-42a3-b3f6-bc91ec9f69f7",
   "metadata": {},
   "source": [
    "### 추세 추종 매매 구현\n",
    "\n",
    "네이버의 2019년 주가를 가지고 살펴보자."
   ]
  },
  {
   "cell_type": "code",
   "execution_count": null,
   "id": "0f984b2c-194b-4f86-9bb6-e497006c3a67",
   "metadata": {},
   "outputs": [],
   "source": [
    "dfstock = fdr.DataReader(symbols.Symbol.iloc[0], '2019-01-02', '2019-12-31')\n",
    "df = dfstock.copy()"
   ]
  },
  {
   "cell_type": "code",
   "execution_count": null,
   "id": "f67e3a2f-20e9-490d-a2f5-a3b3a55b9477",
   "metadata": {},
   "outputs": [],
   "source": [
    "df['MA20'] = df['Close'].rolling(window=20).mean() \n",
    "df['stddev'] = df['Close'].rolling(window=20).std() \n",
    "df['upper'] = df['MA20'] + (df['stddev'] * 2)\n",
    "df['lower'] = df['MA20'] - (df['stddev'] * 2)\n",
    "df['PB'] = (df['Close'] - df['lower']) / (df['upper'] - df['lower']) # 밴드 승수\n",
    "df['TP'] = (df['High'] + df['Low'] + df['Close']) / 3    # 중심가격"
   ]
  },
  {
   "cell_type": "markdown",
   "id": "a94d08da-5e32-490e-8986-e80abd93c7cf",
   "metadata": {},
   "source": [
    "아래는 10일 기준 현금흐름지표를 구하고 있다."
   ]
  },
  {
   "cell_type": "code",
   "execution_count": null,
   "id": "15e3b5fd-4163-49dd-a235-83b4e99e66fb",
   "metadata": {},
   "outputs": [],
   "source": [
    "df['PMF'] = 0   # 긍정적 현금 흐름\n",
    "df['NMF'] = 0   # 부정적 현금 흐름\n",
    "for i in range(len(df.Close)-1):\n",
    "    if df.TP.values[i] < df.TP.values[i+1]:  # 긍정적\n",
    "        df.PMF.values[i+1] = df.TP.values[i+1] * df.Volume.values[i+1]\n",
    "        df.NMF.values[i+1] = 0\n",
    "    else:                                    # 부정적\n",
    "        df.NMF.values[i+1] = df.TP.values[i+1] * df.Volume.values[i+1]\n",
    "        df.PMF.values[i+1] = 0\n",
    "# 현금흐름 비율\n",
    "df['MFR'] = (df.PMF.rolling(window=10).sum() / df.NMF.rolling(window=10).sum())\n",
    "# 현금흐름 지표\n",
    "df['MFI10'] = 100 - 100 / (1 + df['MFR'])"
   ]
  },
  {
   "cell_type": "markdown",
   "id": "0c3c4a55-b652-45fb-b3d9-63df8c84c8f7",
   "metadata": {},
   "source": [
    "MFI는 0에서 100사이 움직이는 한계 지표로 80을 상회하면 강한 매수 신호, 20을 하회하면 강한 매도 신호가 된다."
   ]
  },
  {
   "cell_type": "code",
   "execution_count": null,
   "id": "ed9e7964-6a60-45ee-b91c-44b6fdd66d1b",
   "metadata": {},
   "outputs": [],
   "source": [
    "df = df[19:]\n",
    "\n",
    "plt.figure(figsize=(9, 8))\n",
    "plt.subplot(2, 1, 1)\n",
    "plt.title('NAVER Bollinger Band(20 day, 2 std) - Trend Following')\n",
    "plt.plot(df.index, df['Close'], color='#0000ff', label='Close')\n",
    "plt.plot(df.index, df['upper'], 'r--', label ='Upper band')\n",
    "plt.plot(df.index, df['MA20'], 'k--', label='Moving average 20')\n",
    "plt.plot(df.index, df['lower'], 'c--', label ='Lower band')\n",
    "plt.fill_between(df.index, df['upper'], df['lower'], color='0.9')\n",
    "for i in range(len(df.Close)):\n",
    "    if df.PB.values[i] > 0.8 and df.MFI10.values[i] > 80:       # #MFI 80보다 크다\n",
    "        plt.plot(df.index.values[i], df.Close.values[i], 'r^')  # ②\n",
    "    elif df.PB.values[i] < 0.2 and df.MFI10.values[i] < 20:     # #MFI 20보다 작다\n",
    "        plt.plot(df.index.values[i], df.Close.values[i], 'bv')  # ④\n",
    "plt.legend(loc='best')\n",
    "\n",
    "plt.subplot(2, 1, 2)\n",
    "plt.plot(df.index, df['PB'] * 100, 'b', label='%B x 100')       # ⑤ \n",
    "plt.plot(df.index, df['MFI10'], 'g--', label='MFI(10 day)')     # ⑥\n",
    "plt.yticks([-20, 0, 20, 40, 60, 80, 100, 120])                  # ⑦\n",
    "for i in range(len(df.Close)):\n",
    "    if df.PB.values[i] > 0.8 and df.MFI10.values[i] > 80:       #MFI 80보다 크다\n",
    "        plt.plot(df.index.values[i], 0, 'r^')\n",
    "    elif df.PB.values[i] < 0.2 and df.MFI10.values[i] < 20:     #MFI 20보다 작다\n",
    "        plt.plot(df.index.values[i], 0, 'bv')\n",
    "plt.grid(True)\n",
    "plt.legend(loc='best')\n",
    "plt.show();   \n"
   ]
  },
  {
   "cell_type": "markdown",
   "id": "88d263dc-a167-4993-9aa7-1b9678b35d41",
   "metadata": {},
   "source": [
    "2019년 7월말 경에 매수신호가 연달다 4개 나왔다, 만약 이 매수신호를 따럈다면.... 2019년말 큰 수익을 얻을 수 있다."
   ]
  },
  {
   "cell_type": "markdown",
   "id": "99a450a4-036d-4056-97db-af6531a1e429",
   "metadata": {},
   "source": [
    "## 6.4.2 볼린저 밴드를 이용한 반전 매매기법\n",
    "\n",
    "- 매수: 주가가 하단 밴드 부근에서 W형 패턴을 보이고, 강세 지표가 확증 할 때 매수 (%b가 0.05보다 작고 II%가 0보다 크면 매수\n",
    "- 매도: 주가가 상단 밴드 부근에서 일련의 주가 태그가 일어나며, 약세 지표가 확증 할 때 매도 (%b가 0.95보다 크고 II%가 0보다 작으면 매도\n"
   ]
  },
  {
   "attachments": {
    "36e16a3b-d499-4f66-bd42-d8d5aaf8739e.png": {
     "image/png": "[encoded data removed]"
    }
   },
   "cell_type": "markdown",
   "id": "d7d92ca6-48fb-4ed4-9821-d66c46db7d6c",
   "metadata": {},
   "source": [
    "### - 일중 강도(Intraday Intensity, II)\n",
    "\n",
    "일중강도(II%)는 데이빗 보스티언이 개발한 거래량 지표이다. 거래 범위에서 종가의 위치를 토대로 주식 종목의 자금 흐름을 설명한다. **`II%`** 는 장이 끝나는 시점에서 트레이더의 움직임을 나타내는데 종가가 거래 범위 천정에 형성되면 1, 중간에 형성되면 0, 바닥권이면 -1 이 된다.\n",
    "\n",
    "21일 기간동안 II% 합을 21동안 거래량 합으로 나누어 표준화 한 것이 ***일중강도 II%*** 이다.\n",
    "![image.png](attachment:36e16a3b-d499-4f66-bd42-d8d5aaf8739e.png)"
   ]
  },
  {
   "cell_type": "markdown",
   "id": "86d56c79-b05f-4f8f-a32e-c448a627c4cc",
   "metadata": {},
   "source": [
    "다음은 SK하이닉스의 일별 시세를 이용해 일중 강도를 계산했다."
   ]
  },
  {
   "cell_type": "code",
   "execution_count": null,
   "id": "f8616301-d389-4192-a71a-babe3f77c9e7",
   "metadata": {},
   "outputs": [],
   "source": [
    "symbols = krx_symbols(['SK하이닉스'])\n",
    "dfstock = fdr.DataReader(symbols.Symbol.iloc[0], '2018-11-01', '2019-12-31')\n",
    "dfstock.head()"
   ]
  },
  {
   "cell_type": "code",
   "execution_count": null,
   "id": "436e97a6-71c2-4311-a771-b61b9ae0720e",
   "metadata": {},
   "outputs": [],
   "source": [
    "df = dfstock.copy()"
   ]
  },
  {
   "cell_type": "markdown",
   "id": "e39b952b-3a67-4a2c-8f94-7bc202ad8327",
   "metadata": {},
   "source": [
    "볼린저 밴드와 일중강도율"
   ]
  },
  {
   "cell_type": "code",
   "execution_count": null,
   "id": "05b0a7ae-d362-47c0-b91c-2a97b62c630c",
   "metadata": {},
   "outputs": [],
   "source": [
    "df['MA20'] = df['Close'].rolling(window=20).mean() \n",
    "df['stddev'] = df['Close'].rolling(window=20).std() \n",
    "df['upper'] = df['MA20'] + (df['stddev'] * 2)\n",
    "df['lower'] = df['MA20'] - (df['stddev'] * 2)\n",
    "df['PB'] = (df['Close'] - df['lower']) / (df['upper'] - df['lower'])\n",
    "\n",
    "df['II'] = (2*df['Close']-df['High']-df['Low']) \\\n",
    "            /(df['High']-df['Low'])*df['Volume']  # 고가/저가/종가 이용 일중강도\n",
    "df['IIP21'] = df['II'].rolling(window=21).sum() \\\n",
    "            / df['Volume'].rolling(window=21).sum()*100  # 21 일중강도합을 21일 거래량과 계산\n",
    "df = df.dropna()\n",
    "\n",
    "plt.figure(figsize=(9, 9))\n",
    "plt.subplot(3, 1, 1)\n",
    "plt.title('SK Hynix Bollinger Band(20 day, 2 std) - Reversals')\n",
    "plt.plot(df.index, df['Close'], 'b', label='Close')\n",
    "plt.plot(df.index, df['upper'], 'r--', label ='Upper band')\n",
    "plt.plot(df.index, df['MA20'], 'k--', label='Moving average 20')\n",
    "plt.plot(df.index, df['lower'], 'c--', label ='Lower band')\n",
    "plt.fill_between(df.index, df['upper'], df['lower'], color='0.9')\n",
    "\n",
    "plt.legend(loc='best')\n",
    "plt.subplot(3, 1, 2)\n",
    "plt.plot(df.index, df['PB'], 'b', label='%b')\n",
    "plt.grid(True)\n",
    "plt.legend(loc='best')\n",
    "\n",
    "plt.subplot(3, 1, 3)  # ③\n",
    "plt.bar(df.index, df['IIP21'], color='g', label='II% 21day')  # 21일 일중강도\n",
    "plt.grid(True)\n",
    "plt.legend(loc='best')\n",
    "plt.show()"
   ]
  },
  {
   "cell_type": "markdown",
   "id": "99e1dd9e-72fe-4df2-ad8b-6424dcdf1bc3",
   "metadata": {
    "tags": []
   },
   "source": [
    "### 반전 매매 구현\n",
    "\n",
    "일별 시세를 이용해 볼리저 밴드의 반전 매매를 구현해 보자. **반전 매매기법** 은 볼린저 밴드 %b와 거래량 지표인 일중강도율 II%을 사용한다.  앞의 코드에서 매수/매도 신호를 표시하는 코드를 추가하자."
   ]
  },
  {
   "cell_type": "code",
   "execution_count": null,
   "id": "f9a87942-589e-4e63-8491-17f85ee1eef9",
   "metadata": {},
   "outputs": [],
   "source": [
    "df = dfstock.copy()"
   ]
  },
  {
   "cell_type": "code",
   "execution_count": null,
   "id": "67aa6387-3441-46c5-af06-c6591588baf2",
   "metadata": {},
   "outputs": [],
   "source": [
    "df['MA20'] = df['Close'].rolling(window=20).mean() \n",
    "df['stddev'] = df['Close'].rolling(window=20).std() \n",
    "df['upper'] = df['MA20'] + (df['stddev'] * 2)\n",
    "df['lower'] = df['MA20'] - (df['stddev'] * 2)\n",
    "df['PB'] = (df['Close'] - df['lower']) / (df['upper'] - df['lower'])\n",
    "\n",
    "df['II'] = (2*df['Close']-df['High']-df['Low']) \\\n",
    "            /(df['High']-df['Low'])*df['Volume']  # 고가/저가/종가 이용 일중강도\n",
    "df['IIP21'] = df['II'].rolling(window=21).sum() \\\n",
    "            / df['Volume'].rolling(window=21).sum()*100  # 21 일중강도합을 21일 거래량과 계산\n",
    "df = df.dropna()\n",
    "\n",
    "plt.figure(figsize=(9, 9))\n",
    "plt.subplot(3, 1, 1)\n",
    "plt.title('SK Hynix Bollinger Band(20 day, 2 std) - Reversals')\n",
    "plt.plot(df.index, df['Close'], 'b', label='Close')\n",
    "plt.plot(df.index, df['upper'], 'r--', label ='Upper band')\n",
    "plt.plot(df.index, df['MA20'], 'k--', label='Moving average 20')\n",
    "plt.plot(df.index, df['lower'], 'c--', label ='Lower band')\n",
    "plt.fill_between(df.index, df['upper'], df['lower'], color='0.9')\n",
    "for i in range(0, len(df.Close)):\n",
    "    if df.PB.values[i] < 0.05 and df.IIP21.values[i] > 0:       # ①\n",
    "        plt.plot(df.index.values[i], df.Close.values[i], 'r^')  # ②\n",
    "    elif df.PB.values[i] > 0.95 and df.IIP21.values[i] < 0:     # ③\n",
    "        plt.plot(df.index.values[i], df.Close.values[i], 'bv')  # ④\n",
    "\n",
    "plt.legend(loc='best')\n",
    "plt.subplot(3, 1, 2)\n",
    "plt.plot(df.index, df['PB'], 'b', label='%b')\n",
    "plt.grid(True)\n",
    "plt.legend(loc='best')\n",
    "\n",
    "plt.subplot(3, 1, 3)  # ③\n",
    "plt.bar(df.index, df['IIP21'], color='g', label='II% 21day')  # 21일 일중강도\n",
    "for i in range(0, len(df.Close)):\n",
    "    if df.PB.values[i] < 0.05 and df.IIP21.values[i] > 0:\n",
    "        plt.plot(df.index.values[i], 0, 'r^') # ⑤\n",
    "    elif df.PB.values[i] > 0.95 and df.IIP21.values[i] < 0:\n",
    "        plt.plot(df.index.values[i], 0, 'bv') # ⑥\n",
    "plt.grid(True)\n",
    "plt.legend(loc='best')\n",
    "plt.show()"
   ]
  },
  {
   "cell_type": "markdown",
   "id": "c87057c0-64c8-4d9f-a11e-7e75be0ebcfc",
   "metadata": {},
   "source": [
    "2018년-2019년 의 SK하이닉스에서 보듯, 2019/1월 65000 부근 매수 신호, 2019/7에 매도 신호, 8월 매수 이후 9월 매도 신호가 있다."
   ]
  }
 ],
 "metadata": {
  "kernelspec": {
   "display_name": "Python 3 (ipykernel)",
   "language": "python",
   "name": "python3"
  },
  "language_info": {
   "codemirror_mode": {
    "name": "ipython",
    "version": 3
   },
   "file_extension": ".py",
   "mimetype": "text/x-python",
   "name": "python",
   "nbconvert_exporter": "python",
   "pygments_lexer": "ipython3",
   "version": "3.9.7"
  }
 },
 "nbformat": 4,
 "nbformat_minor": 5
}
